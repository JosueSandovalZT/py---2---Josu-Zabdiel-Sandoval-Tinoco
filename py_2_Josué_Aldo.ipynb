{
  "nbformat": 4,
  "nbformat_minor": 0,
  "metadata": {
    "colab": {
      "provenance": [],
      "authorship_tag": "ABX9TyMAjeEwDjNCNQh9JUAFcojc",
      "include_colab_link": true
    },
    "kernelspec": {
      "name": "python3",
      "display_name": "Python 3"
    },
    "language_info": {
      "name": "python"
    }
  },
  "cells": [
    {
      "cell_type": "markdown",
      "metadata": {
        "id": "view-in-github",
        "colab_type": "text"
      },
      "source": [
        "<a href=\"https://colab.research.google.com/github/JosueSandovalZT/py---2---Josu-Zabdiel-Sandoval-Tinoco/blob/main/py_2_Josu%C3%A9_Aldo.ipynb\" target=\"_parent\"><img src=\"https://colab.research.google.com/assets/colab-badge.svg\" alt=\"Open In Colab\"/></a>"
      ]
    },
    {
      "cell_type": "markdown",
      "source": [
        "#JuevesLab1\n",
        "\n",
        "###Equipo:\n",
        "####Josué Zabdiel Sandoval Tinoco\n",
        "####Aldo Ivan Martinez Castro"
      ],
      "metadata": {
        "id": "H5pfmpt2Eund"
      }
    },
    {
      "cell_type": "code",
      "execution_count": null,
      "metadata": {
        "colab": {
          "base_uri": "https://localhost:8080/"
        },
        "id": "2x_kBIp2EVoS",
        "outputId": "36be7b52-16af-45e0-c6c6-a17fcaf49dd6"
      },
      "outputs": [
        {
          "output_type": "execute_result",
          "data": {
            "text/plain": [
              "str"
            ]
          },
          "metadata": {},
          "execution_count": 2
        }
      ],
      "source": [
        "# Práctica de Analítica de Datos: Tipos y Operaciones Básicas\n",
        "\n",
        "# Objetivo: Consolidar el conocimiento sobre los tipos de datos (numéricos, cadenas, booleanos), y aplicar operaciones aritméticas, relacionales y lógicas para resolver problemas de análisis de datos sencillos.\n",
        "\n",
        "# Parte 1. Tipos de datos\n",
        "\n",
        "#\tDefine tres variables:\n",
        "#\t\t- Un número entero (int) con tu edad.\n",
        "mi_edad = int(18)\n",
        "\n",
        "#\t\t- Un número decimal (float) con tu altura en metros.\n",
        "mi_altura = float(1.83)\n",
        "\n",
        "#\t\t- Una cadena de texto (str) con tu nombre completo.\n",
        "mi_nombre = str(\"Josué Zabdiel Sandoval Tinoco\")\n",
        "\n",
        "#\tPregunta: ¿qué función en Python permite conocer el tipo de dato de una variable? Úsala para mostrar los resultados.\n",
        "type(mi_edad)\n",
        "type(mi_altura)\n",
        "type(mi_nombre)"
      ]
    },
    {
      "cell_type": "code",
      "source": [
        "type(mi_nombre)"
      ],
      "metadata": {
        "colab": {
          "base_uri": "https://localhost:8080/"
        },
        "id": "dlrbn2CtGGou",
        "outputId": "c9fe9b80-e70c-4e2e-abc8-26ef635daed3"
      },
      "execution_count": null,
      "outputs": [
        {
          "output_type": "execute_result",
          "data": {
            "text/plain": [
              "str"
            ]
          },
          "metadata": {},
          "execution_count": 3
        }
      ]
    },
    {
      "cell_type": "code",
      "source": [
        "# Parte 2. Operaciones aritméticas\n",
        "\n",
        "#\tSupón que compras 3 productos con precios: 125.50, 89.99 y 39.75.\n",
        "#\t\t- Calcula el total de la compra.\n",
        "#\t\t- Aplica un descuento del 15%.\n",
        "#\t\t- Calcula el IVA del 16% sobre el precio con descuento.\n",
        "#\t\t- Obtén el total final a pagar.\n",
        "producto1 = 125.50\n",
        "producto2 = 89.99\n",
        "producto3 = 39.75\n",
        "total_de_mi_compra = producto1 + producto2 + producto3\n",
        "total_compra_con_descuento = total_de_mi_compra * 0.85\n",
        "iva = total_compra_con_descuento * 0.16\n",
        "total_final = total_compra_con_descuento + iva\n",
        "\n",
        "#\t¿Qué operador usarías para obtener el residuo de dividir 125 entre 12?\n",
        "#\t\tEscríbelo y ejecútalo en código.\n",
        "residuo = 125 % 12"
      ],
      "metadata": {
        "id": "s4uSaQKeI-OW"
      },
      "execution_count": null,
      "outputs": []
    },
    {
      "cell_type": "code",
      "source": [
        "residuo"
      ],
      "metadata": {
        "colab": {
          "base_uri": "https://localhost:8080/"
        },
        "id": "AvTDDMrLJkKF",
        "outputId": "ca5b1e55-ae9a-449b-f8e9-b41de4c8087c"
      },
      "execution_count": null,
      "outputs": [
        {
          "output_type": "execute_result",
          "data": {
            "text/plain": [
              "5"
            ]
          },
          "metadata": {},
          "execution_count": 5
        }
      ]
    },
    {
      "cell_type": "code",
      "source": [
        "# Parte 3. Operaciones relacionales\n",
        "\n",
        "#\tCon los datos anteriores:\n",
        "#\t\t- Verifica si tu edad es mayor a 18.\n",
        "verifica_edad = mi_edad > 18\n",
        "\n",
        "#\t\t- Comprueba si el precio más alto es mayor que 100.\n",
        "verifica_costo = producto1 > 100\n",
        "\n",
        "#\t\t- Evalúa si el total final de la compra es menor o igual a 200.\n",
        "verifica_compra_final = total_final <= 200\n"
      ],
      "metadata": {
        "id": "dUIm9IvksuRZ"
      },
      "execution_count": null,
      "outputs": []
    },
    {
      "cell_type": "code",
      "source": [
        "verifica_compra_final"
      ],
      "metadata": {
        "id": "ncwo8r3XNsek",
        "colab": {
          "base_uri": "https://localhost:8080/"
        },
        "outputId": "ebb0de24-4a03-4963-f136-b872661dad20"
      },
      "execution_count": null,
      "outputs": [
        {
          "output_type": "execute_result",
          "data": {
            "text/plain": [
              "False"
            ]
          },
          "metadata": {},
          "execution_count": 7
        }
      ]
    },
    {
      "cell_type": "code",
      "source": [
        "# Parte 4. Operaciones lógicas\n",
        "\n",
        "#\tCrea dos variables booleanas:\n",
        "#\t\t- pago_tarjeta = True\n",
        "#\t\t- tiene_descuento = False\n",
        "#\t\t- Evalúa las siguientes expresiones:\n",
        "#\t\t- ¿El cliente pagó con tarjeta y tiene descuento?\n",
        "#\t\t- ¿El cliente pagó con tarjeta o tiene descuento?\n",
        "#\t\t- Niega el valor de tiene_descuento.\n",
        "pago_tarjeta = True\n",
        "tiene_descuento = False\n",
        "\n",
        "if pago_tarjeta and tiene_descuento:\n",
        "  print(\"El cliente pagó con tarjeta y tiene descuento\")\n",
        "else:\n",
        "  print(\"El cliente no pagó con tarjeta y no tiene descuento\")\n",
        "\n",
        "if pago_tarjeta or tiene_descuento:\n",
        "  print(\"El cliente pagó con tarjeta o tiene descuento\")\n",
        "else:\n",
        "  print(\"El cliente no pagó con tarjeta o no tiene descuento\")\n",
        "\n",
        "if not tiene_descuento:\n",
        "  print(\"El cliente no tiene descuento\")\n",
        "else:\n",
        "  print(\"El cliente tiene descuento\")\n"
      ],
      "metadata": {
        "id": "qxp-a7vdRdzo",
        "colab": {
          "base_uri": "https://localhost:8080/"
        },
        "outputId": "a4e29096-01cc-4549-8430-ea6712e7c585"
      },
      "execution_count": 8,
      "outputs": [
        {
          "output_type": "stream",
          "name": "stdout",
          "text": [
            "El cliente no pagó con tarjeta y no tiene descuento\n",
            "El cliente pagó con tarjeta o tiene descuento\n",
            "El cliente no tiene descuento\n"
          ]
        }
      ]
    },
    {
      "cell_type": "code",
      "source": [
        "# Parte 5. Integración\n",
        "#\t\tRedacta un programa en Python que:\n",
        "#   \t-\tSolicite al usuario:\n",
        "#\t\t\t- Edad\n",
        "#\t\t\t- Altura\n",
        "#\t\t\t\t- Monto de una compra\n",
        "#\t\tMuestre en pantalla:\n",
        "#\t\t\t\t- El tipo de cada dato ingresado.\n",
        "#\t\t\t\t- Si el usuario es mayor de edad.\n",
        "#\t\t\t\t- Si la compra excede los $500.\n",
        "#\t\t\t\t- Si el usuario es mayor de edad y su compra excede $500.\n",
        "edad = int(input(\"¿Cuál es tu edad? \"))\n",
        "altura = float(input(\"¿Cuál es tu altura? \"))\n",
        "monto_compra = float(input(\"¿Cuánto es el monto de tu compra? \"))\n",
        "print(type(edad))\n",
        "print(type(altura))\n",
        "print(type(monto_compra))\n",
        "print(edad >= 18)\n",
        "print(monto_compra > 500)\n",
        "print(edad >= 18 and monto_compra > 500)"
      ],
      "metadata": {
        "colab": {
          "base_uri": "https://localhost:8080/"
        },
        "id": "mqbfdUqusJgT",
        "outputId": "b2152591-3f4e-40ef-913c-56f510b0574f"
      },
      "execution_count": 10,
      "outputs": [
        {
          "output_type": "stream",
          "name": "stdout",
          "text": [
            "¿Cuál es tu edad? 18\n",
            "¿Cuál es tu altura? 1.83\n",
            "¿Cuánto es el monto de tu compra? 501.99\n",
            "<class 'int'>\n",
            "<class 'float'>\n",
            "<class 'float'>\n",
            "True\n",
            "True\n",
            "True\n"
          ]
        }
      ]
    },
    {
      "cell_type": "code",
      "source": [
        "edad: int = 18\n",
        "edad_mitad = edad / 2\n",
        "potencia = edad_mitad ** 3\n",
        "division = potencia / 3\n",
        "\n",
        "entera = division // 3\n",
        "residuo = division % 3\n",
        "\n"
      ],
      "metadata": {
        "id": "aJM420CWUwH4"
      },
      "execution_count": null,
      "outputs": []
    },
    {
      "cell_type": "code",
      "source": [
        "division"
      ],
      "metadata": {
        "colab": {
          "base_uri": "https://localhost:8080/"
        },
        "id": "8QOXXtfGVqRA",
        "outputId": "99f97639-2931-4985-becc-da0ab157341a"
      },
      "execution_count": null,
      "outputs": [
        {
          "output_type": "execute_result",
          "data": {
            "text/plain": [
              "243.0"
            ]
          },
          "metadata": {},
          "execution_count": 56
        }
      ]
    }
  ]
}